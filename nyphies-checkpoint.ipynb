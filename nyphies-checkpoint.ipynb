{
 "cells": [
  {
   "cell_type": "markdown",
   "id": "1002be03",
   "metadata": {},
   "source": [
    "# Initial Exploratory Analysis "
   ]
  },
  {
   "cell_type": "markdown",
   "id": "cc717a5b",
   "metadata": {},
   "source": [
    "## Importing Libraries"
   ]
  },
  {
   "cell_type": "code",
   "execution_count": 1,
   "id": "52b5ee48",
   "metadata": {},
   "outputs": [],
   "source": [
    "import pandas as pd\n",
    "import numpy as np \n"
   ]
  },
  {
   "cell_type": "markdown",
   "id": "d4f940dc",
   "metadata": {},
   "source": [
    "## Load Data"
   ]
  },
  {
   "cell_type": "code",
   "execution_count": 9,
   "id": "58a53b04",
   "metadata": {},
   "outputs": [],
   "source": [
    "#Load Data Function\n",
    "def load_data(num):\n",
    "    \n",
    "    ''' Function Loads Data into DataFrame '''\n",
    "    \n",
    "    path = f\"claims/claims/Q{num}.csv\"\n",
    "    return pd.read_csv(path,low_memory=False)"
   ]
  },
  {
   "cell_type": "code",
   "execution_count": 10,
   "id": "5594541a",
   "metadata": {},
   "outputs": [],
   "source": [
    "data_1 = load_data(1) # Q1 "
   ]
  },
  {
   "cell_type": "code",
   "execution_count": 11,
   "id": "08c5c0d8",
   "metadata": {},
   "outputs": [],
   "source": [
    "data_2 = load_data(2) #Q2\n",
    "data_3 = load_data(3) #Q3"
   ]
  },
  {
   "cell_type": "markdown",
   "id": "6efb0ef6",
   "metadata": {},
   "source": [
    "## Checking Total Number of Features and Records"
   ]
  },
  {
   "cell_type": "code",
   "execution_count": 66,
   "id": "53da7aef",
   "metadata": {},
   "outputs": [
    {
     "name": "stdout",
     "output_type": "stream",
     "text": [
      "Q1 dataset has 68 Features and 831324 total Number of Data Points\n",
      "Q2 dataset has 68 Features and 1048575 total Number of Data Points\n",
      "Q3 dataset has 68 Features and 1048575 total Number of Data Points\n"
     ]
    }
   ],
   "source": [
    "Columns_Q1 = len(data_1.columns)\n",
    "Columns_Q2 = len(data_2.columns)\n",
    "Columns_Q3 = len(data_3.columns)\n",
    "\n",
    "\n",
    "No_records_Q1 = len(data_1['Provider Code'])\n",
    "No_records_Q2 = len(data_2['Provider Code'])\n",
    "No_records_Q3 = len(data_3['Provider Code'])\n",
    "\n",
    "\n",
    "print(f\"Q1 dataset has {Columns_Q1} Features and {No_records_Q1} total Number of Data Points\")\n",
    "print(f\"Q2 dataset has {Columns_Q2} Features and {No_records_Q2} total Number of Data Points\")\n",
    "print(f\"Q3 dataset has {Columns_Q3} Features and {No_records_Q3} total Number of Data Points\")"
   ]
  },
  {
   "cell_type": "markdown",
   "id": "3b56e07a",
   "metadata": {},
   "source": [
    "## Combine all datasets "
   ]
  },
  {
   "cell_type": "code",
   "execution_count": 32,
   "id": "56bb3ede",
   "metadata": {},
   "outputs": [],
   "source": [
    "Data_CB = pd.concat([data_1, data_2, data_3], axis=0)"
   ]
  },
  {
   "cell_type": "code",
   "execution_count": 24,
   "id": "f08276f5",
   "metadata": {},
   "outputs": [
    {
     "name": "stdout",
     "output_type": "stream",
     "text": [
      "The total number of records in all three dataset : 2,928,474\n"
     ]
    }
   ],
   "source": [
    "Total_number_records = '{:,}'.format(No_records_Q1 + No_records_Q2 + No_records_Q3)\n",
    "print(\"The total number of records in all three dataset : {}\".format(Total_number_records))"
   ]
  },
  {
   "cell_type": "code",
   "execution_count": 67,
   "id": "839986d0",
   "metadata": {},
   "outputs": [
    {
     "name": "stdout",
     "output_type": "stream",
     "text": [
      "<class 'pandas.core.frame.DataFrame'>\n",
      "Int64Index: 2928474 entries, 0 to 1048574\n",
      "Data columns (total 68 columns):\n",
      " #   Column                        Dtype  \n",
      "---  ------                        -----  \n",
      " 0   Provider Code                 int64  \n",
      " 1   Provider Name                 object \n",
      " 2   Provider Class                object \n",
      " 3   Provider City                 object \n",
      " 4   Provider Type                 object \n",
      " 5   Provider Network              object \n",
      " 6   Provider Contract Start Date  object \n",
      " 7   Provider Contract End Date    object \n",
      " 8   Customer Number               object \n",
      " 9   Customer Name                 object \n",
      " 10  Policy Number                 int64  \n",
      " 11  Policy Issue Date             object \n",
      " 12  Policy Start Date             object \n",
      " 13  Policy Expiry Date            object \n",
      " 14  Member Code                   int64  \n",
      " 15  Member Name                   object \n",
      " 16  Member Relationship           object \n",
      " 17  Member National Id            object \n",
      " 18  Member DOB                    object \n",
      " 19  Network                       object \n",
      " 20  Marital Status                object \n",
      " 21  Gender                        object \n",
      " 22  Nationality                   object \n",
      " 23  Mobile                        object \n",
      " 24  Member Class                  object \n",
      " 25  Diagnosis                     object \n",
      " 26  Diagnosis Code                object \n",
      " 27  Batch Number                  object \n",
      " 28  Batch Status                  object \n",
      " 29  Benefit Type                  object \n",
      " 30  Benefit Name                  object \n",
      " 31  Claim Number                  object \n",
      " 32  Received Date                 object \n",
      " 33  Treatment Date                object \n",
      " 34  Service Type                  object \n",
      " 35  Service Code                  object \n",
      " 36  Item Serial                   int64  \n",
      " 37  Item Name                     object \n",
      " 38  Item Date                     object \n",
      " 39  Price                         float64\n",
      " 40  Settlement Date               object \n",
      " 41  Quantity                      int64  \n",
      " 42  Gross Amount                  float64\n",
      " 43  Approved Amount               float64\n",
      " 44  Deductible Amount             float64\n",
      " 45  Discount Amount               float64\n",
      " 46  Rejected Amount               float64\n",
      " 47  Rejection Description         object \n",
      " 48  PBM_Status                    object \n",
      " 49  PBM_Description               object \n",
      " 50  PBM_Rejection_Reason          object \n",
      " 51  Prv Gross Amount              float64\n",
      " 52  Prv Net Amount                float64\n",
      " 53  Prv Deductible                float64\n",
      " 54  Prv Discount                  float64\n",
      " 55  Prv Net VAT Amount            float64\n",
      " 56  Reject_Type                   object \n",
      " 57  CLSFD_NPHIES_CODE             object \n",
      " 58  ENGINE_DECISION               object \n",
      " 59  LINKS_TO_CLINICAL             object \n",
      " 60  ML_RULE_DESCRIPTION           object \n",
      " 61  ML_RULE_PROBABILITY           object \n",
      " 62  NPHIES_DENIAL_CODE            object \n",
      " 63  NPHIES_DESCRIPTION            object \n",
      " 64  Claim Approval Code           int64  \n",
      " 65  Approval No                   object \n",
      " 66  Claim Approval Date           object \n",
      " 67  Diagnosis Description         object \n",
      "dtypes: float64(11), int64(6), object(51)\n",
      "memory usage: 1.5+ GB\n"
     ]
    }
   ],
   "source": [
    "Data_CB.info()"
   ]
  },
  {
   "cell_type": "markdown",
   "id": "49e30ac4",
   "metadata": {},
   "source": [
    "#### Total Number of Records = 2,928,474 "
   ]
  },
  {
   "cell_type": "markdown",
   "id": "f4a1f07d",
   "metadata": {},
   "source": [
    "## Checking for Duplicates"
   ]
  },
  {
   "cell_type": "code",
   "execution_count": 68,
   "id": "1aa8c83f",
   "metadata": {},
   "outputs": [],
   "source": [
    "num_duplicates = Data_CB .duplicated().sum()"
   ]
  },
  {
   "cell_type": "code",
   "execution_count": 69,
   "id": "807af5e4",
   "metadata": {},
   "outputs": [
    {
     "data": {
      "text/plain": [
       "0"
      ]
     },
     "execution_count": 69,
     "metadata": {},
     "output_type": "execute_result"
    }
   ],
   "source": [
    "num_duplicates # There Are No Duplicates"
   ]
  },
  {
   "cell_type": "markdown",
   "id": "e79537f8",
   "metadata": {},
   "source": [
    "## Checking Individual Dataset to confirm"
   ]
  },
  {
   "cell_type": "code",
   "execution_count": 70,
   "id": "c396d994",
   "metadata": {},
   "outputs": [
    {
     "data": {
      "text/plain": [
       "0"
      ]
     },
     "execution_count": 70,
     "metadata": {},
     "output_type": "execute_result"
    }
   ],
   "source": [
    "data_1.duplicated().sum()\n",
    "data_2.duplicated().sum()\n",
    "data_3.duplicated().sum()"
   ]
  },
  {
   "cell_type": "markdown",
   "id": "781698e2",
   "metadata": {},
   "source": [
    "## Checking for Missing Values "
   ]
  },
  {
   "cell_type": "code",
   "execution_count": 52,
   "id": "0e3973d7",
   "metadata": {},
   "outputs": [
    {
     "data": {
      "text/plain": [
       "2928474"
      ]
     },
     "execution_count": 52,
     "metadata": {},
     "output_type": "execute_result"
    }
   ],
   "source": [
    "total_rows"
   ]
  },
  {
   "cell_type": "code",
   "execution_count": 51,
   "id": "fb18da47",
   "metadata": {},
   "outputs": [],
   "source": [
    "# Finding Percentages of Each Columns\n",
    "total_rows = len(Data_CB)\n",
    "missing_counts = [{c: round((Data_CB[c].isnull().sum() ) / total_rows * 100, 2)} for c in Data_CB.columns]"
   ]
  },
  {
   "cell_type": "code",
   "execution_count": 53,
   "id": "3a3a5805",
   "metadata": {},
   "outputs": [
    {
     "name": "stdout",
     "output_type": "stream",
     "text": [
      "Provider Code:0.0%\n",
      "Provider Name:0.0%\n",
      "Provider Class:0.22%\n",
      "Provider City:0.0%\n",
      "Provider Type:0.0%\n",
      "Provider Network:2.63%\n",
      "Provider Contract Start Date:0.0%\n",
      "Provider Contract End Date:0.0%\n",
      "Customer Number:0.0%\n",
      "Customer Name:0.0%\n",
      "Policy Number:0.0%\n",
      "Policy Issue Date:0.0%\n",
      "Policy Start Date:0.0%\n",
      "Policy Expiry Date:0.0%\n",
      "Member Code:0.0%\n",
      "Member Name:0.0%\n",
      "Member Relationship:0.0%\n",
      "Member National Id:0.0%\n",
      "Member DOB:0.0%\n",
      "Network:0.0%\n",
      "Marital Status:0.0%\n",
      "Gender:0.0%\n",
      "Nationality:0.0%\n",
      "Mobile:0.4%\n",
      "Member Class:0.0%\n",
      "Diagnosis:0.03%\n",
      "Diagnosis Code:0.03%\n",
      "Batch Number:0.0%\n",
      "Batch Status:0.0%\n",
      "Benefit Type:0.0%\n",
      "Benefit Name:0.0%\n",
      "Claim Number:0.0%\n",
      "Received Date:0.0%\n",
      "Treatment Date:0.0%\n",
      "Service Type:0.0%\n",
      "Service Code:0.0%\n",
      "Item Serial:0.0%\n",
      "Item Name:0.0%\n",
      "Item Date:0.29%\n",
      "Price:0.0%\n",
      "Settlement Date:2.87%\n",
      "Quantity:0.0%\n",
      "Gross Amount:0.0%\n",
      "Approved Amount:0.0%\n",
      "Deductible Amount:0.0%\n",
      "Discount Amount:0.0%\n",
      "Rejected Amount:0.0%\n",
      "Rejection Description:71.3%\n",
      "PBM_Status:99.61%\n",
      "PBM_Description:99.62%\n",
      "PBM_Rejection_Reason:99.62%\n",
      "Prv Gross Amount:0.0%\n",
      "Prv Net Amount:0.0%\n",
      "Prv Deductible:84.6%\n",
      "Prv Discount:84.6%\n",
      "Prv Net VAT Amount:0.0%\n",
      "Reject_Type:71.77%\n",
      "CLSFD_NPHIES_CODE:99.98%\n",
      "ENGINE_DECISION:99.58%\n",
      "LINKS_TO_CLINICAL:99.76%\n",
      "ML_RULE_DESCRIPTION:99.93%\n",
      "ML_RULE_PROBABILITY:99.93%\n",
      "NPHIES_DENIAL_CODE:99.93%\n",
      "NPHIES_DESCRIPTION:99.93%\n",
      "Claim Approval Code:0.0%\n",
      "Approval No:77.04%\n",
      "Claim Approval Date:0.0%\n",
      "Diagnosis Description:82.34%\n"
     ]
    }
   ],
   "source": [
    "# This Shows Percentages of Missing Values for Each columns\n",
    "for c in missing_counts:\n",
    "  for key, value in c.items():\n",
    "    print(f\"{key}:{value}%\")"
   ]
  },
  {
   "cell_type": "markdown",
   "id": "5b8dbfe6",
   "metadata": {},
   "source": [
    "## Saving Final Dataset "
   ]
  },
  {
   "cell_type": "code",
   "execution_count": 39,
   "id": "1041206d",
   "metadata": {},
   "outputs": [],
   "source": [
    "Data_CB.to_csv('nphies.csv', index=False) \n"
   ]
  },
  {
   "cell_type": "code",
   "execution_count": 5,
   "id": "a8c0f019",
   "metadata": {},
   "outputs": [],
   "source": [
    "Herbal = pd.read_excel('Herbal.xlsx')"
   ]
  },
  {
   "cell_type": "code",
   "execution_count": 8,
   "id": "7df891ff",
   "metadata": {},
   "outputs": [],
   "source": [
    "# Save file as CSV\n",
    "Herbal.to_csv('Herbs.csv', index=False)"
   ]
  }
 ],
 "metadata": {
  "kernelspec": {
   "display_name": "Python 3 (ipykernel)",
   "language": "python",
   "name": "python3"
  },
  "language_info": {
   "codemirror_mode": {
    "name": "ipython",
    "version": 3
   },
   "file_extension": ".py",
   "mimetype": "text/x-python",
   "name": "python",
   "nbconvert_exporter": "python",
   "pygments_lexer": "ipython3",
   "version": "3.10.9"
  }
 },
 "nbformat": 4,
 "nbformat_minor": 5
}
